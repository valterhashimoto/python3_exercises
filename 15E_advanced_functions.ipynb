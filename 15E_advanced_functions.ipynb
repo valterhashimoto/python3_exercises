{
 "cells": [
  {
   "cell_type": "markdown",
   "metadata": {},
   "source": [
    "## 15 Advanced Functions"
   ]
  },
  {
   "cell_type": "markdown",
   "metadata": {},
   "source": [
    "**1)** Write a function called `str_mult` that takes in a required string parameter and an optional integer parameter. The default value for the integer parameter should be 3. The function should return the string multiplied by the integer parameter. "
   ]
  },
  {
   "cell_type": "code",
   "execution_count": 3,
   "metadata": {},
   "outputs": [
    {
     "name": "stdout",
     "output_type": "stream",
     "text": [
      "Something Something Something \n",
      "Something else Something else \n"
     ]
    }
   ],
   "source": [
    "def str_mult(astring,aint=3):\n",
    "    return astring * aint\n",
    "\n",
    "a = str_mult(\"Something \")\n",
    "b = str_mult(\"Something else \",2)\n",
    "print(a)\n",
    "print(b)"
   ]
  },
  {
   "cell_type": "markdown",
   "metadata": {},
   "source": [
    "**2)** Define a function called `multiply`. It should have one required parameter, a string. It should also have one optional parameter, an integer, named `mult_int`, with a default value of 10. The function should return the string multiplied by the integer. (i.e.: Given inputs “Hello”, mult_int=3, the function should return “HelloHelloHello”) "
   ]
  },
  {
   "cell_type": "code",
   "execution_count": 5,
   "metadata": {},
   "outputs": [
    {
     "name": "stdout",
     "output_type": "stream",
     "text": [
      "HelloHelloHello\n"
     ]
    }
   ],
   "source": [
    "def multiply(astring,mult_int=10):\n",
    "    return astring * mult_int\n",
    "\n",
    "a = multiply(\"Hello\",3)\n",
    "print(a)"
   ]
  },
  {
   "cell_type": "markdown",
   "metadata": {},
   "source": [
    "**3)** Currently the function is supposed to take 1 required parameter, and 2 optional parameters, however the code doesn’t work. Fix the code so that it passes the test. This should only require changing one line of code.\n",
    "\n",
    "    def waste(var = \"Water\", mar, marble = \"type\"):\n",
    "        final_string = var + \" \" + marble + \" \" + mar\n",
    "        return final_string"
   ]
  },
  {
   "cell_type": "code",
   "execution_count": 8,
   "metadata": {},
   "outputs": [],
   "source": [
    "def waste(mar,var = \"Water\", marble = \"type\"):\n",
    "    final_string = var + \" \" + marble + \" \" + mar\n",
    "    return final_string\n",
    "\n",
    "#Solution: First argument should be the required one."
   ]
  },
  {
   "cell_type": "markdown",
   "metadata": {},
   "source": [
    "**4)** Fill in the parameter list for g so that the invocations of g yield the return values specified\n",
    "\n",
    "    def g():\n",
    "        return 2*x + y + z\n",
    "    \n",
    "    print(g(3))       # should output 10\n",
    "    print(g(3, 2))    # should output 8\n",
    "    print(g(3, 2, 1)) #should output 9"
   ]
  },
  {
   "cell_type": "code",
   "execution_count": 9,
   "metadata": {},
   "outputs": [
    {
     "name": "stdout",
     "output_type": "stream",
     "text": [
      "10\n",
      "8\n",
      "9\n"
     ]
    }
   ],
   "source": [
    "def g(x,y=4,z=0):\n",
    "    return 2*x + y + z\n",
    "print(g(3))    \n",
    "print(g(3, 2)) \n",
    "print(g(3, 2, 1))"
   ]
  },
  {
   "cell_type": "markdown",
   "metadata": {},
   "source": [
    "**5)** Define a function called `nums` that has three parameters. The first parameter, an integer, should be required. A second parameter named `mult_int` should be optional with a default value of 5. The final parameter, `switch`, should also be optional with a default value of False. The function should multiply the two integers together, and if switch is True, should change the sign of the product before returning it."
   ]
  },
  {
   "cell_type": "code",
   "execution_count": 10,
   "metadata": {},
   "outputs": [],
   "source": [
    "def nums(aint,mult_int=5,switch=False):\n",
    "    if switch:\n",
    "        return - aint * mult_int\n",
    "    else:\n",
    "        return aint * mult_int"
   ]
  },
  {
   "cell_type": "markdown",
   "metadata": {},
   "source": [
    "**6)** Write a function called `together` that takes three parameters, the first is a required parameter that is a number (integer or float), the second is a required parameter that is a string, and the third is an optional parameter whose default is ” “. What is returned is the first parameter, concatenated with the second, using the third."
   ]
  },
  {
   "cell_type": "code",
   "execution_count": 12,
   "metadata": {},
   "outputs": [
    {
     "name": "stdout",
     "output_type": "stream",
     "text": [
      "12 cats\n",
      "17.3 cakes\n"
     ]
    }
   ],
   "source": [
    "def together(afloat,astring,aopt=\" \"):\n",
    "    return str(afloat) + aopt + astring\n",
    "\n",
    "a = together(12,\"cats\")\n",
    "b = together(17.3, \"cakes\")\n",
    "print(a)\n",
    "print(b)"
   ]
  },
  {
   "cell_type": "markdown",
   "metadata": {},
   "source": [
    "## Chapter Assessment"
   ]
  },
  {
   "cell_type": "markdown",
   "metadata": {},
   "source": [
    "**1)** Create a function called `mult` that has two parameters, the first is required and should be an integer, the second is an optional parameter that can either be a number or a string but whose default is 6. The function should return the first parameter multiplied by the second. "
   ]
  },
  {
   "cell_type": "code",
   "execution_count": 13,
   "metadata": {},
   "outputs": [
    {
     "name": "stdout",
     "output_type": "stream",
     "text": [
      "24 DogsDogsDogs\n"
     ]
    }
   ],
   "source": [
    "def mult(aint, aopt=6):\n",
    "    return aint * aopt\n",
    "\n",
    "a = mult(4)\n",
    "b = mult(3,\"Dogs\")\n",
    "print(a,b)"
   ]
  },
  {
   "cell_type": "markdown",
   "metadata": {},
   "source": [
    "**2)**  The following function, `greeting`, does not work. Please fix the code so that it runs without error. This only requires one change in the definition of the function.\n",
    "\n",
    "    def greeting(greeting=\"Hello \", name, excl=\"!\"):\n",
    "        return greeting + name + excl\n",
    "\n",
    "    print(greeting(\"Bob\"))\n",
    "    print(greeting(\"\"))\n",
    "    print(greeting(\"Bob\", excl=\"!!!\"))"
   ]
  },
  {
   "cell_type": "code",
   "execution_count": 14,
   "metadata": {
    "scrolled": true
   },
   "outputs": [
    {
     "name": "stdout",
     "output_type": "stream",
     "text": [
      "Hello Bob!\n",
      "Hello !\n",
      "Hello Bob!!!\n"
     ]
    }
   ],
   "source": [
    "def greeting(name, greeting=\"Hello \", excl=\"!\"):\n",
    "    return greeting + name + excl\n",
    "\n",
    "print(greeting(\"Bob\"))\n",
    "print(greeting(\"\"))\n",
    "print(greeting(\"Bob\", excl=\"!!!\"))"
   ]
  },
  {
   "cell_type": "markdown",
   "metadata": {},
   "source": [
    "**3)** Below is a function, `sum`, that does not work. Change the function definition so the code works. The function should still have a required parameter, `intx`, and an optional parameter, `intz` with a default value of `5`. \n",
    "\n",
    "    def sum(intz=5, intx):\n",
    "        return intz + intx"
   ]
  },
  {
   "cell_type": "code",
   "execution_count": 16,
   "metadata": {},
   "outputs": [
    {
     "name": "stdout",
     "output_type": "stream",
     "text": [
      "10 17\n"
     ]
    }
   ],
   "source": [
    "def sum(intx, intz=5):\n",
    "    return intz + intx\n",
    "\n",
    "a = sum(5)\n",
    "b = sum(7,10)\n",
    "print(a, b)"
   ]
  },
  {
   "cell_type": "markdown",
   "metadata": {},
   "source": [
    "**4)** Write a function, `test`, that takes in three parameters: a required integer, an optional boolean whose default value is `True`, and an optional dictionary, called `dict1`, whose default value is `{2:3, 4:5, 6:8}`. If the boolean parameter is True, the function should test to see if the integer is a key in the dictionary. The value of that key should then be returned. If the boolean parameter is False, return the boolean value “False”. "
   ]
  },
  {
   "cell_type": "code",
   "execution_count": 17,
   "metadata": {},
   "outputs": [
    {
     "name": "stdout",
     "output_type": "stream",
     "text": [
      "3\n",
      "False\n",
      "4\n"
     ]
    }
   ],
   "source": [
    "def test(aint, abool=True, dict1={2:3,4:5,6:8}):\n",
    "    if abool:\n",
    "        if aint in dict1:\n",
    "            return dict1[aint]\n",
    "    else:\n",
    "        return False\n",
    "    return\n",
    "\n",
    "a = test(2)        \n",
    "b = test(4,False)  \n",
    "c = test(5, dict1 = {5:4, 2:1}) \n",
    "print(a) #expected value is 3\n",
    "print(b) #expected value is False\n",
    "print(c) #expected value is 4"
   ]
  },
  {
   "cell_type": "markdown",
   "metadata": {},
   "source": [
    "**5)** Write a function called `checkingIfIn` that takes three parameters. The first is a required parameter, which should be a string. The second is an optional parameter called `direction` with a default value of `True`. The third is an optional parameter called `d` that has a default value of `{'apple': 2, 'pear': 1, 'fruit': 19, 'orange': 5, 'banana': 3, 'grapes': 2, 'watermelon': 7}`. Write the function `checkingIfIn` so that when the second parameter is `True`, it checks to see if the first parameter is a key in the third parameter; if it is, return `True`, otherwise return `False`.\n",
    "\n",
    "But if the second paramter is `False`, then the function should check to see if the first parameter is not a key of the third. If it’s not, the function should return `True` in this case, and if it is, it should return `False`."
   ]
  },
  {
   "cell_type": "code",
   "execution_count": 20,
   "metadata": {
    "scrolled": true
   },
   "outputs": [
    {
     "name": "stdout",
     "output_type": "stream",
     "text": [
      "True\n",
      "False\n",
      "False\n",
      "True\n",
      "False\n",
      "True\n",
      "False\n",
      "True\n"
     ]
    }
   ],
   "source": [
    "def checkingIfIn(astring,direction=True,d={'apple': 2, 'pear': 1, 'fruit': 19, 'orange': 5, 'banana': 3, 'grapes': 2, 'watermelon': 7}):\n",
    "    if direction:\n",
    "        if astring in d:\n",
    "            return True\n",
    "        else:\n",
    "            return False\n",
    "    else:\n",
    "        if astring not in d:\n",
    "            return True\n",
    "        else:\n",
    "            return False\n",
    "\n",
    "a = checkingIfIn(\"grapes\")\n",
    "b = checkingIfIn(\"carrots\")\n",
    "c = checkingIfIn(\"grapes\",False)\n",
    "d = checkingIfIn(\"carrots\",False)\n",
    "e = checkingIfIn('grapes', d = {'carrots': 1, 'peas': 9, 'potatos': 8, 'corn': 32, 'beans': 1})\n",
    "f = checkingIfIn('peas', d = {'carrots': 1, 'peas': 9, 'potatos': 8, 'corn': 32, 'beans': 1})\n",
    "g = checkingIfIn('peas', False, {'carrots': 1, 'peas': 9, 'potatos': 8, 'corn': 32, 'beans': 1})\n",
    "h = checkingIfIn('apples', False, {'carrots': 1, 'peas': 9, 'potatos': 8, 'corn': 32, 'beans': 1})\n",
    "\n",
    "print(a) #expected value: True\n",
    "print(b) #expected value: False\n",
    "print(c) #expected value: False\n",
    "print(d) #expected value: True\n",
    "print(e) #expected value: False\n",
    "print(f) #expected value: True\n",
    "print(g) #expected value: False\n",
    "print(h) #expected value: True"
   ]
  },
  {
   "cell_type": "markdown",
   "metadata": {},
   "source": [
    "**6)**  We have provided the function `checkingIfIn` such that if the first input parameter is in the third, dictionary, input parameter, then the function returns that value, and otherwise, it returns `False`. Follow the instructions in the active code window for specific variable assignmemts. \n",
    "\n",
    "    def checkingIfIn(a, direction = True, d = {'apple': 2, 'pear': 1, 'fruit': 19, 'orange': 5, 'banana': 3, 'grapes': 2, 'watermelon': 7}):\n",
    "        if direction == True:\n",
    "            if a in d:\n",
    "                return d[a]\n",
    "            else:\n",
    "                return False\n",
    "        else:\n",
    "            if a not in d:\n",
    "                return True\n",
    "            else:\n",
    "                return d[a]\n",
    "\n",
    "`# Call the function so that it returns False and assign that function call to the variable c_false`  \n",
    "`# Call the fucntion so that it returns True and assign it to the variable c_true`  \n",
    "`# Call the function so that the value of fruit is assigned to the variable fruit_ans`  \n",
    "`# Call the function using the first and third parameter so that the value 8 is assigned to the variable param_check`  "
   ]
  },
  {
   "cell_type": "code",
   "execution_count": 21,
   "metadata": {},
   "outputs": [
    {
     "name": "stdout",
     "output_type": "stream",
     "text": [
      "False\n",
      "True\n",
      "19\n",
      "8\n"
     ]
    }
   ],
   "source": [
    "\n",
    "def checkingIfIn(a, direction = True, d = {'apple': 2, 'pear': 1, 'fruit': 19, 'orange': 5, 'banana': 3, 'grapes': 2, 'watermelon': 7}):\n",
    "    if direction == True:\n",
    "        if a in d:\n",
    "            return d[a]\n",
    "        else:\n",
    "            return False\n",
    "    else:\n",
    "        if a not in d:\n",
    "            return True\n",
    "        else:\n",
    "            return d[a]\n",
    "\n",
    "# Call the function so that it returns False and assign that function call to the variable c_false\n",
    "c_false = checkingIfIn('durian')\n",
    "print(c_false)\n",
    "\n",
    "# Call the fucntion so that it returns True and assign it to the variable c_true\n",
    "c_true = checkingIfIn('durian',False)\n",
    "print(c_true)\n",
    "\n",
    "# Call the function so that the value of fruit is assigned to the variable fruit_ans\n",
    "fruit_ans = checkingIfIn('fruit')\n",
    "print(fruit_ans)\n",
    "\n",
    "# Call the function using the first and third parameter so that the value 8 is assigned to the variable param_check\n",
    "param_check = checkingIfIn('durian',False,{'durian':8})\n",
    "print(param_check)"
   ]
  }
 ],
 "metadata": {
  "kernelspec": {
   "display_name": "Python 3",
   "language": "python",
   "name": "python3"
  },
  "language_info": {
   "codemirror_mode": {
    "name": "ipython",
    "version": 3
   },
   "file_extension": ".py",
   "mimetype": "text/x-python",
   "name": "python",
   "nbconvert_exporter": "python",
   "pygments_lexer": "ipython3",
   "version": "3.6.8"
  }
 },
 "nbformat": 4,
 "nbformat_minor": 2
}
