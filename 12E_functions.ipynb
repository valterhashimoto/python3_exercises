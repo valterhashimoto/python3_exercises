{
 "cells": [
  {
   "cell_type": "markdown",
   "metadata": {},
   "source": [
    "## 12 Functions"
   ]
  },
  {
   "cell_type": "markdown",
   "metadata": {},
   "source": [
    "**1)** Write a function named `num_test` that takes a number as input. If the number is greater than 10, the function should return “Greater than 10.” If the number is less than 10, the function should return “Less than 10.” If the number is equal to 10, the function should return “Equal to 10.”"
   ]
  },
  {
   "cell_type": "code",
   "execution_count": 1,
   "metadata": {},
   "outputs": [],
   "source": [
    "def num_test(x):\n",
    "    if x >10:\n",
    "        return 'Greater than 10.'\n",
    "    elif x < 10: \n",
    "        return 'Less than 10.'\n",
    "    elif x == 10:\n",
    "        return 'Equal to 10.'"
   ]
  },
  {
   "cell_type": "markdown",
   "metadata": {},
   "source": [
    "**2)** Write a function that will return the number of digits in an integer."
   ]
  },
  {
   "cell_type": "code",
   "execution_count": 2,
   "metadata": {},
   "outputs": [],
   "source": [
    "def numDigits(n):\n",
    "    c = len(str(n))\n",
    "    return c"
   ]
  },
  {
   "cell_type": "markdown",
   "metadata": {},
   "source": [
    "**3)** Write a function that reverses its string argument."
   ]
  },
  {
   "cell_type": "code",
   "execution_count": 3,
   "metadata": {},
   "outputs": [],
   "source": [
    "def reverse(astring):\n",
    "    if astring is not '':\n",
    "        c = ''\n",
    "        for i in range(1,len(astring)):\n",
    "            c += astring[-i]\n",
    "\n",
    "        c = c + astring[0]\n",
    "        return c\n",
    "\n",
    "    elif astring is '':\n",
    "        return ''"
   ]
  },
  {
   "cell_type": "markdown",
   "metadata": {},
   "source": [
    "**4)** Write a function that mirrors its string argument, generating a string containing the original string and the string backwards."
   ]
  },
  {
   "cell_type": "code",
   "execution_count": 4,
   "metadata": {},
   "outputs": [],
   "source": [
    "def mirror(mystr):\n",
    "    if mystr is not '':\n",
    "        c = ''\n",
    "        for i in range(1,len(mystr)):\n",
    "            c += mystr[-i]\n",
    "\n",
    "        c += mystr[0]\n",
    "        return mystr + c\n",
    "\n",
    "    elif mystr is '':\n",
    "        return ''"
   ]
  },
  {
   "cell_type": "markdown",
   "metadata": {},
   "source": [
    "**5)** Write a function that removes all occurrences of a given letter from a string."
   ]
  },
  {
   "cell_type": "code",
   "execution_count": 5,
   "metadata": {},
   "outputs": [],
   "source": [
    "def remove_letter(theLetter, theString):\n",
    "    result = ''\n",
    "    for i in range(len(theString)):\n",
    "        if theLetter != theString[i]:\n",
    "            result += theString[i]\n",
    "        elif theLetter == theString[i]:\n",
    "            continue\n",
    "\n",
    "    return result"
   ]
  },
  {
   "cell_type": "markdown",
   "metadata": {},
   "source": [
    "**6)** Although Python provides us with many list methods, it is good practice and very instructive to think about how they are implemented. Implement a Python function that works like the following:\n",
    "\n",
    " - count\n",
    " - in\n",
    " - reverse\n",
    " - index\n",
    " - insert\n"
   ]
  },
  {
   "cell_type": "code",
   "execution_count": 6,
   "metadata": {},
   "outputs": [
    {
     "name": "stdout",
     "output_type": "stream",
     "text": [
      "4\n"
     ]
    }
   ],
   "source": [
    "def customCount(achar,astring):\n",
    "    cont = 0\n",
    "    for c in astring:\n",
    "        if c == achar:\n",
    "            cont +=1\n",
    "        else:\n",
    "            continue\n",
    "    return cont\n",
    "\n",
    "achar = \"a\"\n",
    "astring = \"aaaapple\"\n",
    "b = customCount(achar,astring)\n",
    "print(b)"
   ]
  },
  {
   "cell_type": "code",
   "execution_count": 7,
   "metadata": {
    "scrolled": true
   },
   "outputs": [
    {
     "name": "stdout",
     "output_type": "stream",
     "text": [
      "True\n",
      "False\n",
      "True\n",
      "False\n"
     ]
    }
   ],
   "source": [
    "def customIn(smt,alist):\n",
    "    for elem in alist:\n",
    "        if elem == smt:\n",
    "            return True\n",
    "        else:\n",
    "            return False\n",
    "\n",
    "alist= \"apple\"\n",
    "smt= \"a\"\n",
    "smt2= \"b\"\n",
    "\n",
    "alist2= [1,2,3]\n",
    "smt3= 1\n",
    "smt4 = 5\n",
    "\n",
    "a = customIn(smt,alist)\n",
    "print(a)\n",
    "b = customIn(smt2,alist)\n",
    "print(b)\n",
    "c = customIn(smt3,alist2)\n",
    "print(c)\n",
    "d = customIn(smt4,alist2)\n",
    "print(d)"
   ]
  },
  {
   "cell_type": "code",
   "execution_count": 8,
   "metadata": {},
   "outputs": [
    {
     "data": {
      "text/plain": [
       "[7, 6, 5, 4, 3, 2, 1]"
      ]
     },
     "execution_count": 8,
     "metadata": {},
     "output_type": "execute_result"
    }
   ],
   "source": [
    "def customReverse(alist):\n",
    "    rev=[]\n",
    "    for i in alist:\n",
    "        rev.append(alist[-i])        \n",
    "    return rev\n",
    "\n",
    "a = [1,2,3,4,5,6,7]\n",
    "customReverse(a)"
   ]
  },
  {
   "cell_type": "code",
   "execution_count": 10,
   "metadata": {},
   "outputs": [
    {
     "data": {
      "text/plain": [
       "3"
      ]
     },
     "execution_count": 10,
     "metadata": {},
     "output_type": "execute_result"
    }
   ],
   "source": [
    "def customIndex(smt,alist):\n",
    "    cont = 0\n",
    "    while cont < len(alist):\n",
    "        if alist[cont] != smt:\n",
    "            cont +=1\n",
    "            if cont == len(alist):\n",
    "                return \"Not in the list\"\n",
    "            else:\n",
    "                continue\n",
    "        else:\n",
    "            return cont\n",
    "            \n",
    "    \n",
    "a = [1,2,4,6]\n",
    "b = ['apple','banana','orange','durian','watermelon']\n",
    "\n",
    "customIndex('durian',b)"
   ]
  },
  {
   "cell_type": "code",
   "execution_count": 12,
   "metadata": {},
   "outputs": [
    {
     "data": {
      "text/plain": [
       "['Cat', 'Fish', 'Dog', 'Elephant', 'Bird', 'Giraffe']"
      ]
     },
     "execution_count": 12,
     "metadata": {},
     "output_type": "execute_result"
    }
   ],
   "source": [
    "def customInsert(smt,position,alist):\n",
    "    element = [smt]\n",
    "    left = alist[:position]\n",
    "    right = alist[position:]\n",
    "    copy = left + element + right\n",
    "    return copy\n",
    "\n",
    "a = [\"Cat\",\"Fish\",\"Elephant\",'Bird','Giraffe']\n",
    "\n",
    "customInsert(\"Dog\",2,a)"
   ]
  },
  {
   "cell_type": "markdown",
   "metadata": {},
   "source": [
    "**7)** Write a function `replace(s, old, new)` that replaces all occurences of `old` with `new` in a string `s`:"
   ]
  },
  {
   "cell_type": "code",
   "execution_count": null,
   "metadata": {},
   "outputs": [],
   "source": [
    "#Hint - use split and joint methods\n",
    "test(replace('Mississippi', 'i', 'I'), 'MIssIssIppI')\n",
    "\n",
    "s = 'I love spom!  Spom is my favorite food.  Spom, spom, spom, yum!'\n",
    "test(replace(s, 'om', 'am'),\n",
    "       'I love spam!  Spam is my favorite food.  Spam, spam, spam, yum!')\n",
    "\n",
    "test(replace(s, 'o', 'a'),\n",
    "       'I lave spam!  Spam is my favarite faad.  Spam, spam, spam, yum!')"
   ]
  },
  {
   "cell_type": "markdown",
   "metadata": {},
   "source": [
    "**8)** Write a Python function that will take a the list of 100 random integers between 0 and 1000 and return the maximum value. (Note: there is a builtin function named `max  but pretend you cannot use it.)"
   ]
  },
  {
   "cell_type": "markdown",
   "metadata": {},
   "source": [
    "**9)** Write a function `sum_of_squares(xs)` that computes the sum of the squares of the numbers in the list `xs`. For example, `sum_of_squares([2, 3, 4])` should return 4+9+16 which is 29:"
   ]
  },
  {
   "cell_type": "markdown",
   "metadata": {},
   "source": [
    "**10)** Write a function to count how many odd numbers are in a list."
   ]
  },
  {
   "cell_type": "markdown",
   "metadata": {},
   "source": [
    "**11)** Sum up all the even numbers in a list."
   ]
  },
  {
   "cell_type": "markdown",
   "metadata": {},
   "source": [
    "**12)** Sum up all the negative numbers in a list."
   ]
  },
  {
   "cell_type": "markdown",
   "metadata": {},
   "source": [
    "**13)** Write a function `findHypot`. The function will be given the length of two sides of a right-angled triangle and it should return the length of the hypotenuse. (Hint: `x ** 0.5` will return the square root, or use `sqrt` from the math module)"
   ]
  },
  {
   "cell_type": "markdown",
   "metadata": {},
   "source": [
    "**14)** Write a function called `is_even(n)` that takes an integer as an argument and returns `True` if the argument is an even number and `False` if it is odd."
   ]
  },
  {
   "cell_type": "markdown",
   "metadata": {},
   "source": [
    "**15)** Now write the function is_odd(n) that returns `True` when n is odd and `False` otherwise."
   ]
  },
  {
   "cell_type": "markdown",
   "metadata": {},
   "source": [
    "**16)** Write a function `is_rightangled` which, given the length of three sides of a triangle, will determine whether the triangle is right-angled. Assume that the third argument to the function is always the longest side. It will return `True` if the triangle is right-angled, or `False` otherwise.\n",
    "\n",
    "Hint: floating point arithmetic is not always exactly accurate, so it is not safe to test floating point numbers for equality. If a good programmer wants to know whether `x` is equal or close enough to `y`, they would probably code it up as\n",
    "\n",
    "    if  abs(x - y) < 0.001:      # if x is approximately equal to y"
   ]
  }
 ],
 "metadata": {
  "kernelspec": {
   "display_name": "Python 3",
   "language": "python",
   "name": "python3"
  },
  "language_info": {
   "codemirror_mode": {
    "name": "ipython",
    "version": 3
   },
   "file_extension": ".py",
   "mimetype": "text/x-python",
   "name": "python",
   "nbconvert_exporter": "python",
   "pygments_lexer": "ipython3",
   "version": "3.6.8"
  }
 },
 "nbformat": 4,
 "nbformat_minor": 2
}
